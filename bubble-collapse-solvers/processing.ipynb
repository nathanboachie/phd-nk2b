{
 "cells": [
  {
   "cell_type": "code",
   "execution_count": null,
   "metadata": {},
   "outputs": [
    {
     "ename": "",
     "evalue": "",
     "output_type": "error",
     "traceback": [
      "\u001b[1;31mRunning cells with 'Python 3.12.3' requires the ipykernel package.\n",
      "\u001b[1;31mInstall 'ipykernel' into the Python environment. \n",
      "\u001b[1;31mCommand: '/bin/python3 -m pip install ipykernel -U --user --force-reinstall'"
     ]
    }
   ],
   "source": [
    "import pandas as pd\n",
    "import matplotlib.pyplot as plt\n",
    "import numpy as np"
   ]
  },
  {
   "cell_type": "code",
   "execution_count": null,
   "metadata": {},
   "outputs": [],
   "source": [
    "Rayleigh=pd.read_csv('Rayleigh.csv')\n",
    "Rayleigh_Plesset=pd.read_csv('Rayleigh_Plesset.csv')"
   ]
  },
  {
   "cell_type": "code",
   "execution_count": null,
   "metadata": {},
   "outputs": [],
   "source": [
    "plt.plot(Rayleigh['Time'].to_numpy(),Rayleigh['Radius'].to_numpy(),label='Rayleigh Equation',color='red',linestyle='solid')\n",
    "plt.plot(Rayleigh_Plesset['Time'].to_numpy(),Rayleigh_Plesset['Radius'].to_numpy(),label='Rayleigh Plesset Equation',linestyle='dashed')\n",
    "plt.xlabel('tc/time')\n",
    "plt.ylabel('R/R0')\n",
    "plt.grid()\n",
    "plt.legend()"
   ]
  },
  {
   "cell_type": "code",
   "execution_count": null,
   "metadata": {},
   "outputs": [],
   "source": [
    "plt.plot(Rayleigh['Time'].to_numpy(),Rayleigh['Velocity'].to_numpy(),label='Rayleigh Equation',color='red',linestyle='solid')\n",
    "plt.plot(Rayleigh_Plesset['Time'].to_numpy(),Rayleigh_Plesset['Velocity'].to_numpy(),label='Rayleigh Plesset Equation',linestyle='dashed')\n",
    "plt.xlabel('tc/time')\n",
    "plt.ylabel('v (m/s)')\n",
    "plt.grid()\n",
    "plt.legend()"
   ]
  }
 ],
 "metadata": {
  "kernelspec": {
   "display_name": "Python 3",
   "language": "python",
   "name": "python3"
  },
  "language_info": {
   "codemirror_mode": {
    "name": "ipython",
    "version": 3
   },
   "file_extension": ".py",
   "mimetype": "text/x-python",
   "name": "python",
   "nbconvert_exporter": "python",
   "pygments_lexer": "ipython3",
   "version": "3.12.3"
  }
 },
 "nbformat": 4,
 "nbformat_minor": 2
}
